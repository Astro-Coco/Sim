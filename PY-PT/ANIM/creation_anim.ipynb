{
 "cells": [
  {
   "cell_type": "code",
   "execution_count": 8,
   "metadata": {},
   "outputs": [],
   "source": [
    "import os \n",
    "import imageio\n"
   ]
  },
  {
   "cell_type": "code",
   "execution_count": 9,
   "metadata": {},
   "outputs": [
    {
     "name": "stderr",
     "output_type": "stream",
     "text": [
      "C:\\Users\\colin\\AppData\\Local\\Temp\\ipykernel_24384\\1007512222.py:21: DeprecationWarning: Starting with ImageIO v3 the behavior of this function will switch to that of iio.v3.imread. To keep the current behavior (and make this warning disappear) use `import imageio.v2 as imageio` or call `imageio.v2.imread` directly.\n",
      "  images.append(imageio.imread(f\"{save_folder}/{filename}\"))\n"
     ]
    }
   ],
   "source": [
    "save_folder = 'ANIMATION//'\n",
    "animation_path = 'ANIMATION//animation.gif'  # Update the extension if needed\n",
    "desired_duration_sec = 6.83  # Duration in seconds\n",
    "fps = 60\n",
    "\n",
    "def create_animation(save_folder, animation_path, fps, duration):\n",
    "    images = []\n",
    "    filenames = sorted([file for file in os.listdir(save_folder) if file.endswith('.png')])\n",
    "    frames_needed = fps * duration\n",
    "    \n",
    "    # Calculate the number of frames we have\n",
    "    total_frames = len(filenames)\n",
    "    \n",
    "    # If we have more frames than we need, calculate the step to skip frames\n",
    "    if total_frames > frames_needed:\n",
    "        step = round(total_frames / frames_needed)\n",
    "    else:\n",
    "        step = 1\n",
    "\n",
    "    for filename in filenames[::step]:\n",
    "        images.append(imageio.imread(f\"{save_folder}/{filename}\"))\n",
    "\n",
    "    imageio.mimsave(animation_path, images, fps=fps)\n",
    "\n",
    "create_animation(save_folder, animation_path, fps, desired_duration_sec)\n"
   ]
  }
 ],
 "metadata": {
  "kernelspec": {
   "display_name": "Python 3",
   "language": "python",
   "name": "python3"
  },
  "language_info": {
   "codemirror_mode": {
    "name": "ipython",
    "version": 3
   },
   "file_extension": ".py",
   "mimetype": "text/x-python",
   "name": "python",
   "nbconvert_exporter": "python",
   "pygments_lexer": "ipython3",
   "version": "3.11.1"
  }
 },
 "nbformat": 4,
 "nbformat_minor": 2
}
